{
 "cells": [
  {
   "cell_type": "code",
   "execution_count": 1,
   "metadata": {},
   "outputs": [
    {
     "name": "stdout",
     "output_type": "stream",
     "text": [
      "Wall time: 5.47 s\n"
     ]
    }
   ],
   "source": [
    "%%time\n",
    "\n",
    "import pandas as pd\n",
    "import numpy as np\n",
    "import nltk\n",
    "from collections import defaultdict\n",
    "\n",
    "from sklearn.model_selection import train_test_split\n",
    "from sklearn.tree import DecisionTreeClassifier\n",
    "\n",
    "file_name = 'News_Category_Dataset.csv'\n",
    "\n",
    "df = pd.read_csv(file_name, parse_dates=['date'])\n",
    "df = df[~df.headline.isna()] # Cleaning\n",
    "features = df['headline']\n",
    "labels = df['category']"
   ]
  },
  {
   "cell_type": "markdown",
   "metadata": {},
   "source": [
    "#### Feature Engineering:"
   ]
  },
  {
   "cell_type": "code",
   "execution_count": 2,
   "metadata": {},
   "outputs": [
    {
     "name": "stdout",
     "output_type": "stream",
     "text": [
      "Wall time: 44.5 s\n"
     ]
    }
   ],
   "source": [
    "%%time\n",
    "\n",
    "split_features = [nltk.word_tokenize(sentence) for sentence in features]"
   ]
  },
  {
   "cell_type": "code",
   "execution_count": 3,
   "metadata": {},
   "outputs": [
    {
     "name": "stdout",
     "output_type": "stream",
     "text": [
      "74319 words in corpus\n",
      "Reduced to 2676 keeping those with freq > 100 (3.60 %)\n",
      "Wall time: 1.49 s\n"
     ]
    }
   ],
   "source": [
    "%%time\n",
    "\n",
    "min_f = 100\n",
    "\n",
    "word_freq = {}\n",
    "for sentence in split_features:\n",
    "    for word in sentence:\n",
    "        if word not in word_freq:\n",
    "            word_freq[word] = 1\n",
    "        else:\n",
    "            word_freq[word] += 1\n",
    "word_freq = dict(sorted(word_freq.items(), key=lambda x: x[1], reverse=True))\n",
    "print(f'{len(word_freq)} words in corpus')\n",
    "words = [word for word, freq in word_freq.items() if freq > min_f]\n",
    "percentage = len(words)/len(word_freq)*100\n",
    "print(f'Reduced to {len(words)} keeping those with freq > {min_f} ({percentage:.2f} %)')"
   ]
  },
  {
   "cell_type": "code",
   "execution_count": 4,
   "metadata": {},
   "outputs": [
    {
     "name": "stdout",
     "output_type": "stream",
     "text": [
      "Wall time: 0 ns\n"
     ]
    }
   ],
   "source": [
    "%%time\n",
    "\n",
    "word_to_idx = defaultdict(lambda:0)\n",
    "idx = 1\n",
    "for word in words:\n",
    "    word_to_idx[word] = idx\n",
    "    idx += 1"
   ]
  },
  {
   "cell_type": "code",
   "execution_count": 5,
   "metadata": {},
   "outputs": [],
   "source": [
    "num_samples = features.shape[0]\n",
    "num_cols = len(word_to_idx) + 1\n",
    "\n",
    "features_vec = np.zeros((num_samples, num_cols), dtype=np.int8)\n",
    "for sample_idx in range(num_samples):\n",
    "    for word in split_features[sample_idx]:\n",
    "        word_idx = word_to_idx[word]\n",
    "        features_vec[sample_idx][word_idx] = 1"
   ]
  },
  {
   "cell_type": "markdown",
   "metadata": {},
   "source": [
    "#### Train / Test Split"
   ]
  },
  {
   "cell_type": "code",
   "execution_count": 6,
   "metadata": {},
   "outputs": [
    {
     "name": "stdout",
     "output_type": "stream",
     "text": [
      "Wall time: 412 ms\n"
     ]
    }
   ],
   "source": [
    "%%time\n",
    "\n",
    "X_train, X_test, y_train, y_test = train_test_split(features_vec, labels, test_size=.1, random_state=1)"
   ]
  },
  {
   "cell_type": "markdown",
   "metadata": {},
   "source": [
    "#### Training"
   ]
  },
  {
   "cell_type": "code",
   "execution_count": 7,
   "metadata": {},
   "outputs": [
    {
     "name": "stdout",
     "output_type": "stream",
     "text": [
      "Wall time: 2min 23s\n"
     ]
    },
    {
     "data": {
      "text/plain": [
       "DecisionTreeClassifier(max_depth=5)"
      ]
     },
     "execution_count": 7,
     "metadata": {},
     "output_type": "execute_result"
    }
   ],
   "source": [
    "%%time\n",
    "\n",
    "tree = DecisionTreeClassifier(max_depth=5)\n",
    "tree.fit(X_train, y_train)"
   ]
  },
  {
   "cell_type": "markdown",
   "metadata": {},
   "source": [
    "#### Evaluation"
   ]
  },
  {
   "cell_type": "code",
   "execution_count": 8,
   "metadata": {},
   "outputs": [],
   "source": [
    "preds_test = tree.predict(X_test)"
   ]
  },
  {
   "cell_type": "code",
   "execution_count": 9,
   "metadata": {},
   "outputs": [],
   "source": [
    "def total_accuracy(y_pred, y_true):\n",
    "    return sum(y_pred == y_true) / len(y_true) * 100\n",
    "\n",
    "def accuracy_by_group(y_pred, y_true):\n",
    "    results = {val: 0 for val in set(y_true.values)}\n",
    "    for i in range(len(y_pred)):        \n",
    "        label = y_pred[i]\n",
    "\n",
    "        if y_pred[i] == y_true.values[i]:\n",
    "            results[label] += 1\n",
    "\n",
    "    for val, nbr in y_true.value_counts().reset_index().values:\n",
    "        results[val] /= nbr\n",
    "        \n",
    "    results = dict(sorted(results.items(), key=lambda x: x[1], reverse=True))\n",
    "    \n",
    "    return results"
   ]
  },
  {
   "cell_type": "code",
   "execution_count": 10,
   "metadata": {},
   "outputs": [
    {
     "data": {
      "text/plain": [
       "22.36992780682101"
      ]
     },
     "execution_count": 10,
     "metadata": {},
     "output_type": "execute_result"
    }
   ],
   "source": [
    "total_accuracy(preds_test, y_test)"
   ]
  },
  {
   "cell_type": "code",
   "execution_count": 11,
   "metadata": {},
   "outputs": [
    {
     "data": {
      "text/plain": [
       "{'POLITICS': 0.9174422095466827,\n",
       " 'STYLE & BEAUTY': 0.4172661870503597,\n",
       " 'ENTERTAINMENT': 0.4108574953732264,\n",
       " 'WEDDINGS': 0.37637362637362637,\n",
       " 'DIVORCE': 0.27627627627627627,\n",
       " 'HOME & LIVING': 0.08823529411764706,\n",
       " 'COMEDY': 0.07283464566929133,\n",
       " 'FOOD & DRINK': 0.054249547920433995,\n",
       " 'QUEER VOICES': 0.05,\n",
       " 'WEIRD NEWS': 0.0,\n",
       " 'EDUCATION': 0.0,\n",
       " 'GOOD NEWS': 0.0,\n",
       " 'WORLDPOST': 0.0,\n",
       " 'TASTE': 0.0,\n",
       " 'BUSINESS': 0.0,\n",
       " 'IMPACT': 0.0,\n",
       " 'MEDIA': 0.0,\n",
       " 'MONEY': 0.0,\n",
       " 'LATINO VOICES': 0.0,\n",
       " 'WOMEN': 0.0,\n",
       " 'BLACK VOICES': 0.0,\n",
       " 'SPORTS': 0.0,\n",
       " 'ENVIRONMENT': 0.0,\n",
       " 'STYLE': 0.0,\n",
       " 'WELLNESS': 0.0,\n",
       " 'THE WORLDPOST': 0.0,\n",
       " 'HEALTHY LIVING': 0.0,\n",
       " 'CRIME': 0.0,\n",
       " 'ARTS & CULTURE': 0.0,\n",
       " 'TECH': 0.0,\n",
       " 'TRAVEL': 0.0,\n",
       " 'FIFTY': 0.0,\n",
       " 'ARTS': 0.0,\n",
       " 'WORLD NEWS': 0.0,\n",
       " 'PARENTING': 0.0,\n",
       " 'SCIENCE': 0.0,\n",
       " 'GREEN': 0.0,\n",
       " 'RELIGION': 0.0,\n",
       " 'PARENTS': 0.0,\n",
       " 'CULTURE & ARTS': 0.0,\n",
       " 'COLLEGE': 0.0}"
      ]
     },
     "execution_count": 11,
     "metadata": {},
     "output_type": "execute_result"
    }
   ],
   "source": [
    "accuracy_by_group(preds_test, y_test)"
   ]
  },
  {
   "cell_type": "code",
   "execution_count": 12,
   "metadata": {},
   "outputs": [
    {
     "data": {
      "text/plain": [
       "POLITICS          29407\n",
       "WELLNESS          16081\n",
       "ENTERTAINMENT     14437\n",
       "TRAVEL             8929\n",
       "STYLE & BEAUTY     8676\n",
       "PARENTING          7812\n",
       "HEALTHY LIVING     6027\n",
       "FOOD & DRINK       5673\n",
       "QUEER VOICES       5653\n",
       "BUSINESS           5329\n",
       "COMEDY             4667\n",
       "SPORTS             4400\n",
       "BLACK VOICES       4061\n",
       "HOME & LIVING      3787\n",
       "PARENTS            3578\n",
       "WEDDINGS           3287\n",
       "THE WORLDPOST      3252\n",
       "WOMEN              3155\n",
       "IMPACT             3109\n",
       "DIVORCE            3093\n",
       "CRIME              3083\n",
       "MEDIA              2501\n",
       "WEIRD NEWS         2400\n",
       "GREEN              2327\n",
       "WORLDPOST          2317\n",
       "RELIGION           2307\n",
       "STYLE              2048\n",
       "SCIENCE            1978\n",
       "WORLD NEWS         1957\n",
       "TASTE              1883\n",
       "TECH               1879\n",
       "MONEY              1529\n",
       "ARTS               1357\n",
       "GOOD NEWS          1260\n",
       "FIFTY              1255\n",
       "ENVIRONMENT        1182\n",
       "ARTS & CULTURE     1178\n",
       "COLLEGE            1037\n",
       "LATINO VOICES      1014\n",
       "CULTURE & ARTS      950\n",
       "EDUCATION           907\n",
       "Name: category, dtype: int64"
      ]
     },
     "execution_count": 12,
     "metadata": {},
     "output_type": "execute_result"
    }
   ],
   "source": [
    "y_train.value_counts()"
   ]
  }
 ],
 "metadata": {
  "kernelspec": {
   "display_name": "Python 3",
   "language": "python",
   "name": "python3"
  },
  "language_info": {
   "codemirror_mode": {
    "name": "ipython",
    "version": 3
   },
   "file_extension": ".py",
   "mimetype": "text/x-python",
   "name": "python",
   "nbconvert_exporter": "python",
   "pygments_lexer": "ipython3",
   "version": "3.7.9"
  }
 },
 "nbformat": 4,
 "nbformat_minor": 4
}
